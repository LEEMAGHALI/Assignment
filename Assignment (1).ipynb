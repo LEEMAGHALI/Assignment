{
  "cells": [
    {
      "cell_type": "markdown",
      "id": "3736c505-2668-4774-9281-b2a01b0944c9",
      "metadata": {
        "id": "3736c505-2668-4774-9281-b2a01b0944c9"
      },
      "source": [
        "Assignment 1: Write a function to multiply two numbers and use it in the calculator function. The function name should be 'multiply_two_numbers'"
      ]
    },
    {
      "cell_type": "code",
      "source": [],
      "metadata": {
        "id": "83kvmChrhDws"
      },
      "id": "83kvmChrhDws",
      "execution_count": null,
      "outputs": []
    },
    {
      "cell_type": "code",
      "execution_count": null,
      "id": "4fca330d-04bd-429d-8bd5-9ff84a3b5c12",
      "metadata": {
        "id": "4fca330d-04bd-429d-8bd5-9ff84a3b5c12"
      },
      "outputs": [],
      "source": [
        "def multiply_two_numbers ():\n",
        "    print(\"this function multiplies two numbers\")\n"
      ]
    },
    {
      "cell_type": "code",
      "execution_count": null,
      "id": "4c86a142-7ee4-4f3f-a48e-357cc8cecbb7",
      "metadata": {
        "id": "4c86a142-7ee4-4f3f-a48e-357cc8cecbb7",
        "outputId": "069fecd8-8071-44e2-e929-2cc4465f8224"
      },
      "outputs": [
        {
          "name": "stdout",
          "output_type": "stream",
          "text": [
            "this function multiplies two numbers\n"
          ]
        }
      ],
      "source": [
        "multiply_two_numbers()"
      ]
    },
    {
      "cell_type": "code",
      "execution_count": null,
      "id": "89e199ad-1cb1-41b8-964b-41c07512c401",
      "metadata": {
        "id": "89e199ad-1cb1-41b8-964b-41c07512c401"
      },
      "outputs": [],
      "source": [
        "def multiply_two_numbers(a,b):\n",
        "    print(a*b)"
      ]
    },
    {
      "cell_type": "code",
      "execution_count": null,
      "id": "65f0c205-9062-4286-ba35-e62ca27a48c8",
      "metadata": {
        "id": "65f0c205-9062-4286-ba35-e62ca27a48c8",
        "outputId": "80c549f7-ece5-4f85-b9ec-8a887d5df2c2"
      },
      "outputs": [
        {
          "name": "stdout",
          "output_type": "stream",
          "text": [
            "15\n"
          ]
        }
      ],
      "source": [
        "multiply_two_numbers(5,3)"
      ]
    },
    {
      "cell_type": "code",
      "execution_count": null,
      "id": "a84e0bbc-8a73-4b6b-bf0f-0b3a43aee9fd",
      "metadata": {
        "id": "a84e0bbc-8a73-4b6b-bf0f-0b3a43aee9fd"
      },
      "outputs": [],
      "source": [
        "def add_two_numbers(a,b):\n",
        "  print(a+b)"
      ]
    },
    {
      "cell_type": "code",
      "execution_count": null,
      "id": "3b7836ff-5530-4921-988f-af4797234a02",
      "metadata": {
        "id": "3b7836ff-5530-4921-988f-af4797234a02"
      },
      "outputs": [],
      "source": [
        "def subtract_two_numbers (a,b):\n",
        "    print (a-b)"
      ]
    },
    {
      "cell_type": "code",
      "execution_count": null,
      "id": "33782b76-21a4-4601-9700-77a52f15e3aa",
      "metadata": {
        "id": "33782b76-21a4-4601-9700-77a52f15e3aa"
      },
      "outputs": [],
      "source": [
        "def calculator(a,b, operation):\n",
        "  if operation == \"add\":\n",
        "     add_two_numbers(a,b)\n",
        "  elif operation == \"subtract\":\n",
        "     subtract_two_numbers(a,b)\n",
        "  elif operation == \"multiply\":\n",
        "     multiply_two_numbers(a,b)\n",
        "  else:\n",
        "         print(\"Please input some integer values and specify your operation as 'add', 'subtract' or 'multiply'\")\n"
      ]
    },
    {
      "cell_type": "markdown",
      "id": "559c5c78-3bcc-4606-ad87-e7b6f167561a",
      "metadata": {
        "id": "559c5c78-3bcc-4606-ad87-e7b6f167561a"
      },
      "source": []
    },
    {
      "cell_type": "code",
      "execution_count": null,
      "id": "30b2dd55-1ae1-47e2-82f4-09a02875a237",
      "metadata": {
        "id": "30b2dd55-1ae1-47e2-82f4-09a02875a237",
        "outputId": "c660c7d1-61de-4c94-9b30-5e79f190033c"
      },
      "outputs": [
        {
          "name": "stdout",
          "output_type": "stream",
          "text": [
            "35\n"
          ]
        }
      ],
      "source": [
        "calculator(15,20, \"add\" )"
      ]
    },
    {
      "cell_type": "code",
      "execution_count": null,
      "id": "61ea38cb-e0a5-473a-b8ae-e08a4a21a0f3",
      "metadata": {
        "id": "61ea38cb-e0a5-473a-b8ae-e08a4a21a0f3",
        "outputId": "74baaaa1-1dc7-42f2-f3a0-dc3643659460"
      },
      "outputs": [
        {
          "name": "stdout",
          "output_type": "stream",
          "text": [
            "-33\n"
          ]
        }
      ],
      "source": [
        "calculator (12,45, \"subtract\")"
      ]
    },
    {
      "cell_type": "code",
      "execution_count": null,
      "id": "d29b4403-804b-409c-bfdd-64f4cdb33ce1",
      "metadata": {
        "id": "d29b4403-804b-409c-bfdd-64f4cdb33ce1",
        "outputId": "80263b74-a0ec-4f78-c26f-4da696d47592"
      },
      "outputs": [
        {
          "name": "stdout",
          "output_type": "stream",
          "text": [
            "156\n"
          ]
        }
      ],
      "source": [
        "calculator (52,3, \"multiply\")"
      ]
    },
    {
      "cell_type": "code",
      "execution_count": null,
      "id": "3eda1436-0449-42af-a32a-abac5aace68f",
      "metadata": {
        "id": "3eda1436-0449-42af-a32a-abac5aace68f",
        "outputId": "ec9f3bce-4e55-4af5-e513-e572b3ad2836"
      },
      "outputs": [
        {
          "ename": "TypeError",
          "evalue": "calculator() takes 3 positional arguments but 4 were given",
          "output_type": "error",
          "traceback": [
            "\u001b[1;31m---------------------------------------------------------------------------\u001b[0m",
            "\u001b[1;31mTypeError\u001b[0m                                 Traceback (most recent call last)",
            "Cell \u001b[1;32mIn[32], line 1\u001b[0m\n\u001b[1;32m----> 1\u001b[0m calculator(\u001b[38;5;241m10\u001b[39m, \u001b[38;5;241m20\u001b[39m, \u001b[38;5;124m\"\u001b[39m\u001b[38;5;124madd\u001b[39m\u001b[38;5;124m\"\u001b[39m, \u001b[38;5;124m\"\u001b[39m\u001b[38;5;124msubtract\u001b[39m\u001b[38;5;124m\"\u001b[39m)\n",
            "\u001b[1;31mTypeError\u001b[0m: calculator() takes 3 positional arguments but 4 were given"
          ]
        }
      ],
      "source": [
        "calculator(10, 20, \"add\", \"subtract\")"
      ]
    },
    {
      "cell_type": "code",
      "execution_count": null,
      "id": "32ef6bd7-b694-4271-94c4-7e6784654506",
      "metadata": {
        "id": "32ef6bd7-b694-4271-94c4-7e6784654506",
        "outputId": "d6028c11-806d-4e31-fe81-a492615abc08"
      },
      "outputs": [
        {
          "ename": "TypeError",
          "evalue": "unsupported operand type(s) for +: 'int' and 'str'",
          "output_type": "error",
          "traceback": [
            "\u001b[1;31m---------------------------------------------------------------------------\u001b[0m",
            "\u001b[1;31mTypeError\u001b[0m                                 Traceback (most recent call last)",
            "Cell \u001b[1;32mIn[33], line 1\u001b[0m\n\u001b[1;32m----> 1\u001b[0m calculator(\u001b[38;5;241m10\u001b[39m, \u001b[38;5;124m\"\u001b[39m\u001b[38;5;124m20\u001b[39m\u001b[38;5;124m\"\u001b[39m, \u001b[38;5;124m\"\u001b[39m\u001b[38;5;124madd\u001b[39m\u001b[38;5;124m\"\u001b[39m)\n",
            "Cell \u001b[1;32mIn[22], line 3\u001b[0m, in \u001b[0;36mcalculator\u001b[1;34m(a, b, operation)\u001b[0m\n\u001b[0;32m      1\u001b[0m \u001b[38;5;28;01mdef\u001b[39;00m \u001b[38;5;21mcalculator\u001b[39m(a,b, operation):\n\u001b[0;32m      2\u001b[0m   \u001b[38;5;28;01mif\u001b[39;00m operation \u001b[38;5;241m==\u001b[39m \u001b[38;5;124m\"\u001b[39m\u001b[38;5;124madd\u001b[39m\u001b[38;5;124m\"\u001b[39m:\n\u001b[1;32m----> 3\u001b[0m      add_two_numbers(a,b)\n\u001b[0;32m      4\u001b[0m   \u001b[38;5;28;01melif\u001b[39;00m operation \u001b[38;5;241m==\u001b[39m \u001b[38;5;124m\"\u001b[39m\u001b[38;5;124msubtract\u001b[39m\u001b[38;5;124m\"\u001b[39m:\n\u001b[0;32m      5\u001b[0m      subtract_two_numbers(a,b)\n",
            "Cell \u001b[1;32mIn[25], line 2\u001b[0m, in \u001b[0;36madd_two_numbers\u001b[1;34m(a, b)\u001b[0m\n\u001b[0;32m      1\u001b[0m \u001b[38;5;28;01mdef\u001b[39;00m \u001b[38;5;21madd_two_numbers\u001b[39m(a,b):\n\u001b[1;32m----> 2\u001b[0m   \u001b[38;5;28mprint\u001b[39m(a\u001b[38;5;241m+\u001b[39mb)\n",
            "\u001b[1;31mTypeError\u001b[0m: unsupported operand type(s) for +: 'int' and 'str'"
          ]
        }
      ],
      "source": [
        "calculator(10, \"20\", \"add\")"
      ]
    },
    {
      "cell_type": "markdown",
      "id": "297b75b4-3578-4b5f-b6be-2357aeaf5b58",
      "metadata": {
        "id": "297b75b4-3578-4b5f-b6be-2357aeaf5b58"
      },
      "source": [
        "#ASSIGNMENT 2\n",
        "Assignment 2: Based on the above error, modify our calculator function to ensure that the arguments passed when calling the function are integers so that we can perform our operations without any errors\n"
      ]
    },
    {
      "cell_type": "code",
      "execution_count": null,
      "id": "efeb9f4a-90e8-4bcb-8a33-b9bbe75d4147",
      "metadata": {
        "id": "efeb9f4a-90e8-4bcb-8a33-b9bbe75d4147",
        "outputId": "d8425a15-d9ff-456e-d5fe-f5b3524e9c8a"
      },
      "outputs": [
        {
          "name": "stdout",
          "output_type": "stream",
          "text": [
            "-10\n"
          ]
        }
      ],
      "source": [
        "calculator(10, 20, \"subtract\")\n",
        "#REMOVE ONE OF \"ADD' OR \"SUBTRACT\" TO  MAKE IT THREE TARGUMENTS INSTEAD OF FOUR"
      ]
    },
    {
      "cell_type": "code",
      "execution_count": null,
      "id": "eb1a97d9-3f0a-439d-af55-c57541ab8029",
      "metadata": {
        "id": "eb1a97d9-3f0a-439d-af55-c57541ab8029",
        "outputId": "084b0eb3-3cc4-4466-b1a2-e3c65e8ca225"
      },
      "outputs": [
        {
          "name": "stdout",
          "output_type": "stream",
          "text": [
            "30\n"
          ]
        }
      ],
      "source": [
        "calculator(10, 20, \"add\")\n",
        "#REMOVE THE QUOTES FROM THE NUMBER 20 BECAUSE IT MAKES IT A STRING INSTEAD OF AN INTEGER"
      ]
    },
    {
      "cell_type": "markdown",
      "source": [
        "Assignment 3\n",
        "\n",
        "\n",
        "Create a class called 'Humans' with methods to print the following:\n",
        "\n",
        "The height of the human\n",
        "The weight of the human\n",
        "The Age of the human\n",
        "The name of the human\n",
        "Create instances of your class and modify or delete the properties on the objects.\n",
        "\n",
        "Make the 'name' a private variable. (reading around private and public variables and methods)"
      ],
      "metadata": {
        "id": "lG9Akpb4cbxE"
      },
      "id": "lG9Akpb4cbxE"
    },
    {
      "cell_type": "code",
      "execution_count": null,
      "id": "e368f6d9-d469-4024-961e-4152f223dfa1",
      "metadata": {
        "id": "e368f6d9-d469-4024-961e-4152f223dfa1"
      },
      "outputs": [],
      "source": [
        "def display_height():\n",
        "  print('The height of the human is 25')\n"
      ]
    },
    {
      "cell_type": "code",
      "source": [
        "def display_weight():\n",
        "  print('The weight of the human is 256')"
      ],
      "metadata": {
        "id": "F1phOLqLkDRj"
      },
      "id": "F1phOLqLkDRj",
      "execution_count": null,
      "outputs": []
    },
    {
      "cell_type": "code",
      "source": [
        "def display_age():\n",
        "  print('The age of the human is 30')"
      ],
      "metadata": {
        "id": "UtbmQy-rkWt5"
      },
      "id": "UtbmQy-rkWt5",
      "execution_count": null,
      "outputs": []
    },
    {
      "cell_type": "code",
      "source": [
        "def display_name():\n",
        "  print('The name of the human is Halima')\n"
      ],
      "metadata": {
        "id": "qguPasLDkp-7"
      },
      "id": "qguPasLDkp-7",
      "execution_count": null,
      "outputs": []
    },
    {
      "cell_type": "code",
      "source": [
        "def Humans():\n",
        "  #display the height of the human\n",
        "  display_height()\n",
        "  #display the weight of the human\n",
        "  display_weight()\n",
        "  #display the age of the human\n",
        "  display_age()\n",
        "  #display the name of the human\n",
        "  display_name()\n"
      ],
      "metadata": {
        "id": "G_u0nMl5cpho"
      },
      "id": "G_u0nMl5cpho",
      "execution_count": null,
      "outputs": []
    },
    {
      "cell_type": "code",
      "source": [
        "Humans()"
      ],
      "metadata": {
        "colab": {
          "base_uri": "https://localhost:8080/"
        },
        "id": "AQbJrf5k1Hki",
        "outputId": "fdc8e4ef-7ed5-4619-865c-fa560dcbf347"
      },
      "id": "AQbJrf5k1Hki",
      "execution_count": null,
      "outputs": [
        {
          "output_type": "stream",
          "name": "stdout",
          "text": [
            "The height of the human is 25\n",
            "The weight of the human is 256\n",
            "The age of the human is 30\n",
            "The name of the human is Halima\n"
          ]
        }
      ]
    },
    {
      "cell_type": "code",
      "source": [
        "class Humans:\n",
        "  def display_name(my_class_instance):\n",
        "    print(\"my name is Halima\")\n",
        "  def display_age(my_other_class_instance):\n",
        "    print(\"my age is 24\")\n",
        "  def display_height(my_other_other_class_instance):\n",
        "    print(\"my height is 25\")\n",
        "  def display_weight(my_other_other_other_class_instance):\n",
        "    print(\"my weight is 256\")"
      ],
      "metadata": {
        "id": "auwqXrBJ108p"
      },
      "id": "auwqXrBJ108p",
      "execution_count": null,
      "outputs": []
    },
    {
      "cell_type": "code",
      "source": [
        "Human1 = Humans()\n",
        "Human1.display_name()"
      ],
      "metadata": {
        "colab": {
          "base_uri": "https://localhost:8080/"
        },
        "id": "TxRmGdpdQbKj",
        "outputId": "d82f66e7-bde6-4cad-da52-be4966fa6e90"
      },
      "id": "TxRmGdpdQbKj",
      "execution_count": null,
      "outputs": [
        {
          "output_type": "stream",
          "name": "stdout",
          "text": [
            "my name is Halima\n"
          ]
        }
      ]
    },
    {
      "cell_type": "code",
      "source": [
        "Human1.display_age()"
      ],
      "metadata": {
        "colab": {
          "base_uri": "https://localhost:8080/"
        },
        "id": "YVPd6edyQ-Lc",
        "outputId": "b1e48be5-13f7-43e1-d0d6-7bb8a211a4be"
      },
      "id": "YVPd6edyQ-Lc",
      "execution_count": null,
      "outputs": [
        {
          "output_type": "stream",
          "name": "stdout",
          "text": [
            "my age is 24\n"
          ]
        }
      ]
    },
    {
      "cell_type": "code",
      "source": [
        "Human1.display_height()"
      ],
      "metadata": {
        "colab": {
          "base_uri": "https://localhost:8080/"
        },
        "id": "F2z4MMSCRfdd",
        "outputId": "09d42760-4e07-492f-ed43-1c9cd0cd7199"
      },
      "id": "F2z4MMSCRfdd",
      "execution_count": null,
      "outputs": [
        {
          "output_type": "stream",
          "name": "stdout",
          "text": [
            "my height is 25\n"
          ]
        }
      ]
    },
    {
      "cell_type": "code",
      "source": [
        "Human1.display_weight()"
      ],
      "metadata": {
        "colab": {
          "base_uri": "https://localhost:8080/"
        },
        "id": "y4DmNphHSQhW",
        "outputId": "a2519fd5-d659-4657-f8d2-2a9eb2e9e90b"
      },
      "id": "y4DmNphHSQhW",
      "execution_count": null,
      "outputs": [
        {
          "output_type": "stream",
          "name": "stdout",
          "text": [
            "my weight is 256\n"
          ]
        }
      ]
    },
    {
      "cell_type": "markdown",
      "source": [
        "Assignment 4\n",
        "\n",
        "\n",
        "\n",
        "Use Matplotlib to come up with 5 to 10 graphs on the given data.\n",
        "\n",
        "\n",
        "[ ]\n"
      ],
      "metadata": {
        "id": "00YtKM4AWVpN"
      },
      "id": "00YtKM4AWVpN"
    },
    {
      "cell_type": "code",
      "source": [
        "import pandas as pd\n",
        "import numpy as np\n",
        "import matplotlib\n",
        "import matplotlib.pyplot as plt"
      ],
      "metadata": {
        "id": "Ti2yFCWCWX1U"
      },
      "id": "Ti2yFCWCWX1U",
      "execution_count": 4,
      "outputs": []
    },
    {
      "cell_type": "code",
      "source": [
        "from google.colab import drive\n",
        "drive.mount('/content/drive')"
      ],
      "metadata": {
        "colab": {
          "base_uri": "https://localhost:8080/"
        },
        "id": "PmlvuMV2S1NU",
        "outputId": "392a23fd-af16-4bcc-e307-a6d53d6ad4f8"
      },
      "id": "PmlvuMV2S1NU",
      "execution_count": 7,
      "outputs": [
        {
          "output_type": "stream",
          "name": "stdout",
          "text": [
            "Mounted at /content/drive\n"
          ]
        }
      ]
    },
    {
      "cell_type": "code",
      "source": [
        "data = pd.read_csv('/content/drive/MyDrive/TUTORIALS/IRIS.csv')\n",
        "data.head()"
      ],
      "metadata": {
        "colab": {
          "base_uri": "https://localhost:8080/",
          "height": 206
        },
        "id": "9x8H9gTOZzSO",
        "outputId": "e6ee60a2-9403-44ef-c664-5e5ef2298094"
      },
      "id": "9x8H9gTOZzSO",
      "execution_count": 8,
      "outputs": [
        {
          "output_type": "execute_result",
          "data": {
            "text/plain": [
              "   sepal_length  sepal_width  petal_length  petal_width      species\n",
              "0           5.1          3.5           1.4          0.2  Iris-setosa\n",
              "1           4.9          3.0           1.4          0.2  Iris-setosa\n",
              "2           4.7          3.2           1.3          0.2  Iris-setosa\n",
              "3           NaN          3.1           1.5          0.2  Iris-setosa\n",
              "4           5.0          3.6           1.4          0.2  Iris-setosa"
            ],
            "text/html": [
              "\n",
              "  <div id=\"df-a2f81d60-b9c3-4d05-a59b-a22463ef8d8c\" class=\"colab-df-container\">\n",
              "    <div>\n",
              "<style scoped>\n",
              "    .dataframe tbody tr th:only-of-type {\n",
              "        vertical-align: middle;\n",
              "    }\n",
              "\n",
              "    .dataframe tbody tr th {\n",
              "        vertical-align: top;\n",
              "    }\n",
              "\n",
              "    .dataframe thead th {\n",
              "        text-align: right;\n",
              "    }\n",
              "</style>\n",
              "<table border=\"1\" class=\"dataframe\">\n",
              "  <thead>\n",
              "    <tr style=\"text-align: right;\">\n",
              "      <th></th>\n",
              "      <th>sepal_length</th>\n",
              "      <th>sepal_width</th>\n",
              "      <th>petal_length</th>\n",
              "      <th>petal_width</th>\n",
              "      <th>species</th>\n",
              "    </tr>\n",
              "  </thead>\n",
              "  <tbody>\n",
              "    <tr>\n",
              "      <th>0</th>\n",
              "      <td>5.1</td>\n",
              "      <td>3.5</td>\n",
              "      <td>1.4</td>\n",
              "      <td>0.2</td>\n",
              "      <td>Iris-setosa</td>\n",
              "    </tr>\n",
              "    <tr>\n",
              "      <th>1</th>\n",
              "      <td>4.9</td>\n",
              "      <td>3.0</td>\n",
              "      <td>1.4</td>\n",
              "      <td>0.2</td>\n",
              "      <td>Iris-setosa</td>\n",
              "    </tr>\n",
              "    <tr>\n",
              "      <th>2</th>\n",
              "      <td>4.7</td>\n",
              "      <td>3.2</td>\n",
              "      <td>1.3</td>\n",
              "      <td>0.2</td>\n",
              "      <td>Iris-setosa</td>\n",
              "    </tr>\n",
              "    <tr>\n",
              "      <th>3</th>\n",
              "      <td>NaN</td>\n",
              "      <td>3.1</td>\n",
              "      <td>1.5</td>\n",
              "      <td>0.2</td>\n",
              "      <td>Iris-setosa</td>\n",
              "    </tr>\n",
              "    <tr>\n",
              "      <th>4</th>\n",
              "      <td>5.0</td>\n",
              "      <td>3.6</td>\n",
              "      <td>1.4</td>\n",
              "      <td>0.2</td>\n",
              "      <td>Iris-setosa</td>\n",
              "    </tr>\n",
              "  </tbody>\n",
              "</table>\n",
              "</div>\n",
              "    <div class=\"colab-df-buttons\">\n",
              "\n",
              "  <div class=\"colab-df-container\">\n",
              "    <button class=\"colab-df-convert\" onclick=\"convertToInteractive('df-a2f81d60-b9c3-4d05-a59b-a22463ef8d8c')\"\n",
              "            title=\"Convert this dataframe to an interactive table.\"\n",
              "            style=\"display:none;\">\n",
              "\n",
              "  <svg xmlns=\"http://www.w3.org/2000/svg\" height=\"24px\" viewBox=\"0 -960 960 960\">\n",
              "    <path d=\"M120-120v-720h720v720H120Zm60-500h600v-160H180v160Zm220 220h160v-160H400v160Zm0 220h160v-160H400v160ZM180-400h160v-160H180v160Zm440 0h160v-160H620v160ZM180-180h160v-160H180v160Zm440 0h160v-160H620v160Z\"/>\n",
              "  </svg>\n",
              "    </button>\n",
              "\n",
              "  <style>\n",
              "    .colab-df-container {\n",
              "      display:flex;\n",
              "      gap: 12px;\n",
              "    }\n",
              "\n",
              "    .colab-df-convert {\n",
              "      background-color: #E8F0FE;\n",
              "      border: none;\n",
              "      border-radius: 50%;\n",
              "      cursor: pointer;\n",
              "      display: none;\n",
              "      fill: #1967D2;\n",
              "      height: 32px;\n",
              "      padding: 0 0 0 0;\n",
              "      width: 32px;\n",
              "    }\n",
              "\n",
              "    .colab-df-convert:hover {\n",
              "      background-color: #E2EBFA;\n",
              "      box-shadow: 0px 1px 2px rgba(60, 64, 67, 0.3), 0px 1px 3px 1px rgba(60, 64, 67, 0.15);\n",
              "      fill: #174EA6;\n",
              "    }\n",
              "\n",
              "    .colab-df-buttons div {\n",
              "      margin-bottom: 4px;\n",
              "    }\n",
              "\n",
              "    [theme=dark] .colab-df-convert {\n",
              "      background-color: #3B4455;\n",
              "      fill: #D2E3FC;\n",
              "    }\n",
              "\n",
              "    [theme=dark] .colab-df-convert:hover {\n",
              "      background-color: #434B5C;\n",
              "      box-shadow: 0px 1px 3px 1px rgba(0, 0, 0, 0.15);\n",
              "      filter: drop-shadow(0px 1px 2px rgba(0, 0, 0, 0.3));\n",
              "      fill: #FFFFFF;\n",
              "    }\n",
              "  </style>\n",
              "\n",
              "    <script>\n",
              "      const buttonEl =\n",
              "        document.querySelector('#df-a2f81d60-b9c3-4d05-a59b-a22463ef8d8c button.colab-df-convert');\n",
              "      buttonEl.style.display =\n",
              "        google.colab.kernel.accessAllowed ? 'block' : 'none';\n",
              "\n",
              "      async function convertToInteractive(key) {\n",
              "        const element = document.querySelector('#df-a2f81d60-b9c3-4d05-a59b-a22463ef8d8c');\n",
              "        const dataTable =\n",
              "          await google.colab.kernel.invokeFunction('convertToInteractive',\n",
              "                                                    [key], {});\n",
              "        if (!dataTable) return;\n",
              "\n",
              "        const docLinkHtml = 'Like what you see? Visit the ' +\n",
              "          '<a target=\"_blank\" href=https://colab.research.google.com/notebooks/data_table.ipynb>data table notebook</a>'\n",
              "          + ' to learn more about interactive tables.';\n",
              "        element.innerHTML = '';\n",
              "        dataTable['output_type'] = 'display_data';\n",
              "        await google.colab.output.renderOutput(dataTable, element);\n",
              "        const docLink = document.createElement('div');\n",
              "        docLink.innerHTML = docLinkHtml;\n",
              "        element.appendChild(docLink);\n",
              "      }\n",
              "    </script>\n",
              "  </div>\n",
              "\n",
              "\n",
              "<div id=\"df-5b00c6f0-dfd4-4374-bb5c-1138260baae9\">\n",
              "  <button class=\"colab-df-quickchart\" onclick=\"quickchart('df-5b00c6f0-dfd4-4374-bb5c-1138260baae9')\"\n",
              "            title=\"Suggest charts\"\n",
              "            style=\"display:none;\">\n",
              "\n",
              "<svg xmlns=\"http://www.w3.org/2000/svg\" height=\"24px\"viewBox=\"0 0 24 24\"\n",
              "     width=\"24px\">\n",
              "    <g>\n",
              "        <path d=\"M19 3H5c-1.1 0-2 .9-2 2v14c0 1.1.9 2 2 2h14c1.1 0 2-.9 2-2V5c0-1.1-.9-2-2-2zM9 17H7v-7h2v7zm4 0h-2V7h2v10zm4 0h-2v-4h2v4z\"/>\n",
              "    </g>\n",
              "</svg>\n",
              "  </button>\n",
              "\n",
              "<style>\n",
              "  .colab-df-quickchart {\n",
              "      --bg-color: #E8F0FE;\n",
              "      --fill-color: #1967D2;\n",
              "      --hover-bg-color: #E2EBFA;\n",
              "      --hover-fill-color: #174EA6;\n",
              "      --disabled-fill-color: #AAA;\n",
              "      --disabled-bg-color: #DDD;\n",
              "  }\n",
              "\n",
              "  [theme=dark] .colab-df-quickchart {\n",
              "      --bg-color: #3B4455;\n",
              "      --fill-color: #D2E3FC;\n",
              "      --hover-bg-color: #434B5C;\n",
              "      --hover-fill-color: #FFFFFF;\n",
              "      --disabled-bg-color: #3B4455;\n",
              "      --disabled-fill-color: #666;\n",
              "  }\n",
              "\n",
              "  .colab-df-quickchart {\n",
              "    background-color: var(--bg-color);\n",
              "    border: none;\n",
              "    border-radius: 50%;\n",
              "    cursor: pointer;\n",
              "    display: none;\n",
              "    fill: var(--fill-color);\n",
              "    height: 32px;\n",
              "    padding: 0;\n",
              "    width: 32px;\n",
              "  }\n",
              "\n",
              "  .colab-df-quickchart:hover {\n",
              "    background-color: var(--hover-bg-color);\n",
              "    box-shadow: 0 1px 2px rgba(60, 64, 67, 0.3), 0 1px 3px 1px rgba(60, 64, 67, 0.15);\n",
              "    fill: var(--button-hover-fill-color);\n",
              "  }\n",
              "\n",
              "  .colab-df-quickchart-complete:disabled,\n",
              "  .colab-df-quickchart-complete:disabled:hover {\n",
              "    background-color: var(--disabled-bg-color);\n",
              "    fill: var(--disabled-fill-color);\n",
              "    box-shadow: none;\n",
              "  }\n",
              "\n",
              "  .colab-df-spinner {\n",
              "    border: 2px solid var(--fill-color);\n",
              "    border-color: transparent;\n",
              "    border-bottom-color: var(--fill-color);\n",
              "    animation:\n",
              "      spin 1s steps(1) infinite;\n",
              "  }\n",
              "\n",
              "  @keyframes spin {\n",
              "    0% {\n",
              "      border-color: transparent;\n",
              "      border-bottom-color: var(--fill-color);\n",
              "      border-left-color: var(--fill-color);\n",
              "    }\n",
              "    20% {\n",
              "      border-color: transparent;\n",
              "      border-left-color: var(--fill-color);\n",
              "      border-top-color: var(--fill-color);\n",
              "    }\n",
              "    30% {\n",
              "      border-color: transparent;\n",
              "      border-left-color: var(--fill-color);\n",
              "      border-top-color: var(--fill-color);\n",
              "      border-right-color: var(--fill-color);\n",
              "    }\n",
              "    40% {\n",
              "      border-color: transparent;\n",
              "      border-right-color: var(--fill-color);\n",
              "      border-top-color: var(--fill-color);\n",
              "    }\n",
              "    60% {\n",
              "      border-color: transparent;\n",
              "      border-right-color: var(--fill-color);\n",
              "    }\n",
              "    80% {\n",
              "      border-color: transparent;\n",
              "      border-right-color: var(--fill-color);\n",
              "      border-bottom-color: var(--fill-color);\n",
              "    }\n",
              "    90% {\n",
              "      border-color: transparent;\n",
              "      border-bottom-color: var(--fill-color);\n",
              "    }\n",
              "  }\n",
              "</style>\n",
              "\n",
              "  <script>\n",
              "    async function quickchart(key) {\n",
              "      const quickchartButtonEl =\n",
              "        document.querySelector('#' + key + ' button');\n",
              "      quickchartButtonEl.disabled = true;  // To prevent multiple clicks.\n",
              "      quickchartButtonEl.classList.add('colab-df-spinner');\n",
              "      try {\n",
              "        const charts = await google.colab.kernel.invokeFunction(\n",
              "            'suggestCharts', [key], {});\n",
              "      } catch (error) {\n",
              "        console.error('Error during call to suggestCharts:', error);\n",
              "      }\n",
              "      quickchartButtonEl.classList.remove('colab-df-spinner');\n",
              "      quickchartButtonEl.classList.add('colab-df-quickchart-complete');\n",
              "    }\n",
              "    (() => {\n",
              "      let quickchartButtonEl =\n",
              "        document.querySelector('#df-5b00c6f0-dfd4-4374-bb5c-1138260baae9 button');\n",
              "      quickchartButtonEl.style.display =\n",
              "        google.colab.kernel.accessAllowed ? 'block' : 'none';\n",
              "    })();\n",
              "  </script>\n",
              "</div>\n",
              "\n",
              "    </div>\n",
              "  </div>\n"
            ],
            "application/vnd.google.colaboratory.intrinsic+json": {
              "type": "dataframe",
              "variable_name": "data",
              "summary": "{\n  \"name\": \"data\",\n  \"rows\": 150,\n  \"fields\": [\n    {\n      \"column\": \"sepal_length\",\n      \"properties\": {\n        \"dtype\": \"number\",\n        \"std\": 0.8305217722259991,\n        \"min\": 4.3,\n        \"max\": 7.9,\n        \"num_unique_values\": 35,\n        \"samples\": [\n          6.2,\n          4.5,\n          5.6\n        ],\n        \"semantic_type\": \"\",\n        \"description\": \"\"\n      }\n    },\n    {\n      \"column\": \"sepal_width\",\n      \"properties\": {\n        \"dtype\": \"number\",\n        \"std\": 0.4303240231465991,\n        \"min\": 2.0,\n        \"max\": 4.4,\n        \"num_unique_values\": 23,\n        \"samples\": [\n          2.3,\n          4.0,\n          3.5\n        ],\n        \"semantic_type\": \"\",\n        \"description\": \"\"\n      }\n    },\n    {\n      \"column\": \"petal_length\",\n      \"properties\": {\n        \"dtype\": \"number\",\n        \"std\": 1.7531426467763709,\n        \"min\": 1.0,\n        \"max\": 6.9,\n        \"num_unique_values\": 43,\n        \"samples\": [\n          6.7,\n          3.8,\n          3.7\n        ],\n        \"semantic_type\": \"\",\n        \"description\": \"\"\n      }\n    },\n    {\n      \"column\": \"petal_width\",\n      \"properties\": {\n        \"dtype\": \"number\",\n        \"std\": 0.7631607417008411,\n        \"min\": 0.1,\n        \"max\": 2.5,\n        \"num_unique_values\": 22,\n        \"samples\": [\n          0.2,\n          1.2,\n          1.3\n        ],\n        \"semantic_type\": \"\",\n        \"description\": \"\"\n      }\n    },\n    {\n      \"column\": \"species\",\n      \"properties\": {\n        \"dtype\": \"category\",\n        \"num_unique_values\": 3,\n        \"samples\": [\n          \"Iris-setosa\",\n          \"Iris-versicolor\",\n          \"Iris-virginica\"\n        ],\n        \"semantic_type\": \"\",\n        \"description\": \"\"\n      }\n    }\n  ]\n}"
            }
          },
          "metadata": {},
          "execution_count": 8
        }
      ]
    },
    {
      "cell_type": "code",
      "source": [
        "# Bar Chart for sepal_length vs sepal width\n",
        "x = np.array(data['species'])\n",
        "y = np.array(data['sepal_width'])\n",
        "\n",
        "plt.bar(x,y,color=\"red\")\n",
        "plt.xlabel('Species')\n",
        "plt.ylabel('Sepal Width')\n",
        "plt.title('Sepal Length of Species...')\n",
        "plt.show()"
      ],
      "metadata": {
        "colab": {
          "base_uri": "https://localhost:8080/",
          "height": 472
        },
        "id": "AhZZgMI8hF_O",
        "outputId": "1eb84c91-f5f7-4764-928f-d3aba25fa3d6"
      },
      "id": "AhZZgMI8hF_O",
      "execution_count": 18,
      "outputs": [
        {
          "output_type": "display_data",
          "data": {
            "text/plain": [
              "<Figure size 640x480 with 1 Axes>"
            ],
            "image/png": "[encoded data removed]"
          },
          "metadata": {}
        }
      ]
    },
    {
      "cell_type": "code",
      "source": [
        "# a scatter plot of sepal_width vs sepal_lenght\n",
        "x = np.array(data[\"sepal_width\"])\n",
        "y = np.array(data['sepal_length'])\n",
        "\n",
        "plt.scatter(x,y, color=\"blue\")\n",
        "plt.xlabel('Sepal Width')\n",
        "plt.ylabel('Sepal Length')\n",
        "plt.show()"
      ],
      "metadata": {
        "colab": {
          "base_uri": "https://localhost:8080/",
          "height": 449
        },
        "id": "G8BUG72ZlDal",
        "outputId": "ecd1aaa8-84bd-42c5-9fc7-edcb047791df"
      },
      "id": "G8BUG72ZlDal",
      "execution_count": 21,
      "outputs": [
        {
          "output_type": "display_data",
          "data": {
            "text/plain": [
              "<Figure size 640x480 with 1 Axes>"
            ],
            "image/png": "[encoded data removed]"
          },
          "metadata": {}
        }
      ]
    },
    {
      "cell_type": "code",
      "source": [
        "# an histogram of species vs petal_length\n",
        "y=np.array(data['petal_length'])\n",
        "\n",
        "plt.hist(y ,color='green')\n",
        "plt.xlabel('Petal Length')\n",
        "plt.show()"
      ],
      "metadata": {
        "colab": {
          "base_uri": "https://localhost:8080/",
          "height": 449
        },
        "id": "449V8tpLncE6",
        "outputId": "3eb2c54d-8a24-47ed-937d-43fa95c2a5e0"
      },
      "id": "449V8tpLncE6",
      "execution_count": 26,
      "outputs": [
        {
          "output_type": "display_data",
          "data": {
            "text/plain": [
              "<Figure size 640x480 with 1 Axes>"
            ],
            "image/png": "[encoded data removed]"
          },
          "metadata": {}
        }
      ]
    },
    {
      "cell_type": "code",
      "source": [
        "# a horizontal bar plot of species vs sepal_length\n",
        "x = np.array(data['species'])\n",
        "y = np.array(data['sepal_length'])\n",
        "\n",
        "plt.barh(x,y,color=\"orange\")\n",
        "plt.ylabel('Species')\n",
        "plt.xlabel('Sepal Length')"
      ],
      "metadata": {
        "colab": {
          "base_uri": "https://localhost:8080/",
          "height": 466
        },
        "id": "SP8HNeFLpKim",
        "outputId": "22d05353-c012-4750-c2c9-97ec72b596b9"
      },
      "id": "SP8HNeFLpKim",
      "execution_count": 27,
      "outputs": [
        {
          "output_type": "execute_result",
          "data": {
            "text/plain": [
              "Text(0.5, 0, 'Sepal Length')"
            ]
          },
          "metadata": {},
          "execution_count": 27
        },
        {
          "output_type": "display_data",
          "data": {
            "text/plain": [
              "<Figure size 640x480 with 1 Axes>"
            ],
            "image/png": "[encoded data removed]"
          },
          "metadata": {}
        }
      ]
    },
    {
      "cell_type": "code",
      "source": [
        "# a scatter plot of petal_length vs petal_width\n",
        "x = np.array(data['petal_length'])\n",
        "y = np.array(data['petal_width'])\n",
        "\n",
        "plt.scatter(x,y, color=\"purple\")\n",
        "plt.xlabel('Petal Length')\n",
        "plt.ylabel('Petal Width')"
      ],
      "metadata": {
        "colab": {
          "base_uri": "https://localhost:8080/",
          "height": 466
        },
        "id": "_9i-h38ZqUqZ",
        "outputId": "8d977e4c-75cc-4c0d-ce34-02f01bb29160"
      },
      "id": "_9i-h38ZqUqZ",
      "execution_count": 28,
      "outputs": [
        {
          "output_type": "execute_result",
          "data": {
            "text/plain": [
              "Text(0, 0.5, 'Petal Width')"
            ]
          },
          "metadata": {},
          "execution_count": 28
        },
        {
          "output_type": "display_data",
          "data": {
            "text/plain": [
              "<Figure size 640x480 with 1 Axes>"
            ],
            "image/png": "[encoded data removed]"
          },
          "metadata": {}
        }
      ]
    }
  ],
  "metadata": {
    "kernelspec": {
      "display_name": "Python 3 (ipykernel)",
      "language": "python",
      "name": "python3"
    },
    "language_info": {
      "codemirror_mode": {
        "name": "ipython",
        "version": 3
      },
      "file_extension": ".py",
      "mimetype": "text/x-python",
      "name": "python",
      "nbconvert_exporter": "python",
      "pygments_lexer": "ipython3",
      "version": "3.11.7"
    },
    "colab": {
      "provenance": []
    }
  },
  "nbformat": 4,
  "nbformat_minor": 5
}