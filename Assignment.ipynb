{
 "cells": [
  {
   "cell_type": "markdown",
   "id": "3736c505-2668-4774-9281-b2a01b0944c9",
   "metadata": {},
   "source": [
    "Assignment 1: Write a function to multiply two numbers and use it in the calculator function. The function name should be 'multiply_two_numbers'"
   ]
  },
  {
   "cell_type": "code",
   "execution_count": 1,
   "id": "4fca330d-04bd-429d-8bd5-9ff84a3b5c12",
   "metadata": {},
   "outputs": [],
   "source": [
    "def multiply_two_numbers ():\n",
    "    print(\"this function multiplies two numbers\")\n",
    "    "
   ]
  },
  {
   "cell_type": "code",
   "execution_count": 2,
   "id": "4c86a142-7ee4-4f3f-a48e-357cc8cecbb7",
   "metadata": {},
   "outputs": [
    {
     "name": "stdout",
     "output_type": "stream",
     "text": [
      "this function multiplies two numbers\n"
     ]
    }
   ],
   "source": [
    "multiply_two_numbers()"
   ]
  },
  {
   "cell_type": "code",
   "execution_count": 4,
   "id": "89e199ad-1cb1-41b8-964b-41c07512c401",
   "metadata": {},
   "outputs": [],
   "source": [
    "def multiply_two_numbers(a,b):\n",
    "    print(a*b)"
   ]
  },
  {
   "cell_type": "code",
   "execution_count": 6,
   "id": "65f0c205-9062-4286-ba35-e62ca27a48c8",
   "metadata": {},
   "outputs": [
    {
     "name": "stdout",
     "output_type": "stream",
     "text": [
      "15\n"
     ]
    }
   ],
   "source": [
    "multiply_two_numbers(5,3)"
   ]
  },
  {
   "cell_type": "code",
   "execution_count": 25,
   "id": "a84e0bbc-8a73-4b6b-bf0f-0b3a43aee9fd",
   "metadata": {},
   "outputs": [],
   "source": [
    "def add_two_numbers(a,b):\n",
    "  print(a+b)"
   ]
  },
  {
   "cell_type": "code",
   "execution_count": 27,
   "id": "3b7836ff-5530-4921-988f-af4797234a02",
   "metadata": {},
   "outputs": [],
   "source": [
    "def subtract_two_numbers (a,b):\n",
    "    print (a-b)"
   ]
  },
  {
   "cell_type": "code",
   "execution_count": 22,
   "id": "33782b76-21a4-4601-9700-77a52f15e3aa",
   "metadata": {},
   "outputs": [],
   "source": [
    "def calculator(a,b, operation):\n",
    "  if operation == \"add\":\n",
    "     add_two_numbers(a,b)\n",
    "  elif operation == \"subtract\":\n",
    "     subtract_two_numbers(a,b)\n",
    "  elif operation == \"multiply\":\n",
    "     multiply_two_numbers(a,b)\n",
    "  else:\n",
    "         print(\"Please input some integer values and specify your operation as 'add', 'subtract' or 'multiply'\")\n"
   ]
  },
  {
   "cell_type": "markdown",
   "id": "559c5c78-3bcc-4606-ad87-e7b6f167561a",
   "metadata": {},
   "source": []
  },
  {
   "cell_type": "code",
   "execution_count": 26,
   "id": "30b2dd55-1ae1-47e2-82f4-09a02875a237",
   "metadata": {},
   "outputs": [
    {
     "name": "stdout",
     "output_type": "stream",
     "text": [
      "35\n"
     ]
    }
   ],
   "source": [
    "calculator(15,20, \"add\" )"
   ]
  },
  {
   "cell_type": "code",
   "execution_count": 28,
   "id": "61ea38cb-e0a5-473a-b8ae-e08a4a21a0f3",
   "metadata": {},
   "outputs": [
    {
     "name": "stdout",
     "output_type": "stream",
     "text": [
      "-33\n"
     ]
    }
   ],
   "source": [
    "calculator (12,45, \"subtract\")"
   ]
  },
  {
   "cell_type": "code",
   "execution_count": 29,
   "id": "d29b4403-804b-409c-bfdd-64f4cdb33ce1",
   "metadata": {},
   "outputs": [
    {
     "name": "stdout",
     "output_type": "stream",
     "text": [
      "156\n"
     ]
    }
   ],
   "source": [
    "calculator (52,3, \"multiply\")"
   ]
  },
  {
   "cell_type": "code",
   "execution_count": 32,
   "id": "3eda1436-0449-42af-a32a-abac5aace68f",
   "metadata": {},
   "outputs": [
    {
     "ename": "TypeError",
     "evalue": "calculator() takes 3 positional arguments but 4 were given",
     "output_type": "error",
     "traceback": [
      "\u001b[1;31m---------------------------------------------------------------------------\u001b[0m",
      "\u001b[1;31mTypeError\u001b[0m                                 Traceback (most recent call last)",
      "Cell \u001b[1;32mIn[32], line 1\u001b[0m\n\u001b[1;32m----> 1\u001b[0m calculator(\u001b[38;5;241m10\u001b[39m, \u001b[38;5;241m20\u001b[39m, \u001b[38;5;124m\"\u001b[39m\u001b[38;5;124madd\u001b[39m\u001b[38;5;124m\"\u001b[39m, \u001b[38;5;124m\"\u001b[39m\u001b[38;5;124msubtract\u001b[39m\u001b[38;5;124m\"\u001b[39m)\n",
      "\u001b[1;31mTypeError\u001b[0m: calculator() takes 3 positional arguments but 4 were given"
     ]
    }
   ],
   "source": [
    "calculator(10, 20, \"add\", \"subtract\")"
   ]
  },
  {
   "cell_type": "code",
   "execution_count": 33,
   "id": "32ef6bd7-b694-4271-94c4-7e6784654506",
   "metadata": {},
   "outputs": [
    {
     "ename": "TypeError",
     "evalue": "unsupported operand type(s) for +: 'int' and 'str'",
     "output_type": "error",
     "traceback": [
      "\u001b[1;31m---------------------------------------------------------------------------\u001b[0m",
      "\u001b[1;31mTypeError\u001b[0m                                 Traceback (most recent call last)",
      "Cell \u001b[1;32mIn[33], line 1\u001b[0m\n\u001b[1;32m----> 1\u001b[0m calculator(\u001b[38;5;241m10\u001b[39m, \u001b[38;5;124m\"\u001b[39m\u001b[38;5;124m20\u001b[39m\u001b[38;5;124m\"\u001b[39m, \u001b[38;5;124m\"\u001b[39m\u001b[38;5;124madd\u001b[39m\u001b[38;5;124m\"\u001b[39m)\n",
      "Cell \u001b[1;32mIn[22], line 3\u001b[0m, in \u001b[0;36mcalculator\u001b[1;34m(a, b, operation)\u001b[0m\n\u001b[0;32m      1\u001b[0m \u001b[38;5;28;01mdef\u001b[39;00m \u001b[38;5;21mcalculator\u001b[39m(a,b, operation):\n\u001b[0;32m      2\u001b[0m   \u001b[38;5;28;01mif\u001b[39;00m operation \u001b[38;5;241m==\u001b[39m \u001b[38;5;124m\"\u001b[39m\u001b[38;5;124madd\u001b[39m\u001b[38;5;124m\"\u001b[39m:\n\u001b[1;32m----> 3\u001b[0m      add_two_numbers(a,b)\n\u001b[0;32m      4\u001b[0m   \u001b[38;5;28;01melif\u001b[39;00m operation \u001b[38;5;241m==\u001b[39m \u001b[38;5;124m\"\u001b[39m\u001b[38;5;124msubtract\u001b[39m\u001b[38;5;124m\"\u001b[39m:\n\u001b[0;32m      5\u001b[0m      subtract_two_numbers(a,b)\n",
      "Cell \u001b[1;32mIn[25], line 2\u001b[0m, in \u001b[0;36madd_two_numbers\u001b[1;34m(a, b)\u001b[0m\n\u001b[0;32m      1\u001b[0m \u001b[38;5;28;01mdef\u001b[39;00m \u001b[38;5;21madd_two_numbers\u001b[39m(a,b):\n\u001b[1;32m----> 2\u001b[0m   \u001b[38;5;28mprint\u001b[39m(a\u001b[38;5;241m+\u001b[39mb)\n",
      "\u001b[1;31mTypeError\u001b[0m: unsupported operand type(s) for +: 'int' and 'str'"
     ]
    }
   ],
   "source": [
    "calculator(10, \"20\", \"add\")"
   ]
  },
  {
   "cell_type": "markdown",
   "id": "297b75b4-3578-4b5f-b6be-2357aeaf5b58",
   "metadata": {},
   "source": [
    "#ASSIGNMENT 2\n",
    "Assignment 2: Based on the above error, modify our calculator function to ensure that the arguments passed when calling the function are integers so that we can perform our operations without any errors\n"
   ]
  },
  {
   "cell_type": "code",
   "execution_count": 34,
   "id": "efeb9f4a-90e8-4bcb-8a33-b9bbe75d4147",
   "metadata": {},
   "outputs": [
    {
     "name": "stdout",
     "output_type": "stream",
     "text": [
      "-10\n"
     ]
    }
   ],
   "source": [
    "calculator(10, 20, \"subtract\")\n",
    "#REMOVE ONE OF \"ADD' OR \"SUBTRACT\" TO  MAKE IT THREE TARGUMENTS INSTEAD OF FOUR "
   ]
  },
  {
   "cell_type": "code",
   "execution_count": 35,
   "id": "eb1a97d9-3f0a-439d-af55-c57541ab8029",
   "metadata": {},
   "outputs": [
    {
     "name": "stdout",
     "output_type": "stream",
     "text": [
      "30\n"
     ]
    }
   ],
   "source": [
    "calculator(10, 20, \"add\")\n",
    "#REMOVE THE QUOTES FROM THE NUMBER 20 BECAUSE IT MAKES IT A STRING INSTEAD OF AN INTEGER"
   ]
  },
  {
   "cell_type": "code",
   "execution_count": null,
   "id": "e368f6d9-d469-4024-961e-4152f223dfa1",
   "metadata": {},
   "outputs": [],
   "source": []
  }
 ],
 "metadata": {
  "kernelspec": {
   "display_name": "Python 3 (ipykernel)",
   "language": "python",
   "name": "python3"
  },
  "language_info": {
   "codemirror_mode": {
    "name": "ipython",
    "version": 3
   },
   "file_extension": ".py",
   "mimetype": "text/x-python",
   "name": "python",
   "nbconvert_exporter": "python",
   "pygments_lexer": "ipython3",
   "version": "3.11.7"
  }
 },
 "nbformat": 4,
 "nbformat_minor": 5
}
